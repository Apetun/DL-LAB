{
 "cells": [
  {
   "cell_type": "markdown",
   "id": "2a2a56b3-2a57-4100-be75-a301b55dc6bc",
   "metadata": {},
   "source": [
    "## Week 3 Lab Exercise"
   ]
  },
  {
   "cell_type": "code",
   "execution_count": 67,
   "id": "c17e747b-858b-48b3-90fc-1c03efda54d7",
   "metadata": {},
   "outputs": [
    {
     "data": {
      "text/plain": [
       "(1, 'cuda')"
      ]
     },
     "execution_count": 67,
     "metadata": {},
     "output_type": "execute_result"
    }
   ],
   "source": [
    "import torch\n",
    "from matplotlib import pyplot as plt\n",
    "from torch import nn\n",
    "import torch.optim as optim\n",
    "from torch.utils.data import Dataset, DataLoader\n",
    "import numpy as np\n",
    "device = \"cuda\" if torch.cuda.is_available() else \"cpu\"\n",
    "torch.cuda.device_count() , device"
   ]
  },
  {
   "cell_type": "markdown",
   "id": "57276f53-e705-43c8-aa8c-de82cd0f858a",
   "metadata": {},
   "source": [
    "## Lab Exercise"
   ]
  },
  {
   "cell_type": "markdown",
   "id": "b912da50-7c29-40ee-8e4b-9fd68cdd4f1b",
   "metadata": {},
   "source": [
    "### 1) For the following training data, build a linear regression model. Assume w and b are initialized with 1 and learning parameter is set to 0.001."
   ]
  },
  {
   "cell_type": "markdown",
   "id": "50002e06-4b8a-4280-bd07-ada11b8234e2",
   "metadata": {},
   "source": [
    "x = torch.tensor( [12.4, 14.3, 14.5, 14.9, 16.1, 16.9, 16.5, 15.4, 17.0, 17.9, 18.8, 20.3, 22.4,\n",
    "19.4, 15.5, 16.7, 17.3, 18.4, 19.2, 17.4, 19.5, 19.7, 21.2])\n",
    "\n",
    "\n",
    "y = torch.tensor( [11.2, 12.5, 12.7, 13.1, 14.1, 14.8, 14.4, 13.4, 14.9, 15.6, 16.4, 17.7, 19.6,\n",
    "16.9, 14.0, 14.6, 15.1, 16.1, 16.8, 15.2, 17.0, 17.2, 18.6])\n",
    "\n",
    "\n",
    "Assume learning rate =0.001. Plot the graph of epoch in x axis and loss in y axis."
   ]
  },
  {
   "cell_type": "code",
   "execution_count": 68,
   "id": "b11c729e-a63f-4e20-a760-1da0cbf08039",
   "metadata": {},
   "outputs": [],
   "source": [
    "x=torch.tensor([12.4, 14.3, 14.5, 14.9, 16.1, 16.9, 16.5, 15.4, 17.0, 17.9, 18.8, 20.3, 22.4,\n",
    "19.4, 15.5, 16.7, 17.3, 18.4, 19.2, 17.4, 19.5, 19.7, 21.2])\n",
    "y=torch.tensor([11.2, 12.5, 12.7, 13.1, 14.1, 14.8, 14.4, 13.4, 14.9, 15.6, 16.4, 17.7, 19.6,\n",
    "16.9, 14.0, 14.6, 15.1, 16.1, 16.8, 15.2, 17.0, 17.2, 18.6])"
   ]
  },
  {
   "cell_type": "code",
   "execution_count": 69,
   "id": "cbb1d51d-6a7b-4d44-9a5a-b00d243d6cde",
   "metadata": {},
   "outputs": [
    {
     "name": "stdout",
     "output_type": "stream",
     "text": [
      "tensor(10.1539, grad_fn=<MeanBackward0>)\n",
      "tensor(1.4567, grad_fn=<MeanBackward0>)\n",
      "tensor(0.2217, grad_fn=<MeanBackward0>)\n",
      "tensor(0.0464, grad_fn=<MeanBackward0>)\n",
      "tensor(0.0215, grad_fn=<MeanBackward0>)\n",
      "tensor(0.0179, grad_fn=<MeanBackward0>)\n",
      "tensor(0.0174, grad_fn=<MeanBackward0>)\n",
      "tensor(0.0174, grad_fn=<MeanBackward0>)\n",
      "tensor(0.0173, grad_fn=<MeanBackward0>)\n",
      "tensor(0.0173, grad_fn=<MeanBackward0>)\n",
      "tensor(0.0173, grad_fn=<MeanBackward0>)\n",
      "tensor(0.0173, grad_fn=<MeanBackward0>)\n",
      "tensor(0.0173, grad_fn=<MeanBackward0>)\n",
      "tensor(0.0173, grad_fn=<MeanBackward0>)\n",
      "tensor(0.0173, grad_fn=<MeanBackward0>)\n",
      "tensor(0.0173, grad_fn=<MeanBackward0>)\n",
      "tensor(0.0173, grad_fn=<MeanBackward0>)\n",
      "tensor(0.0173, grad_fn=<MeanBackward0>)\n",
      "tensor(0.0173, grad_fn=<MeanBackward0>)\n",
      "tensor(0.0173, grad_fn=<MeanBackward0>)\n"
     ]
    },
    {
     "data": {
      "image/png": "[encoded data removed]",
      "text/plain": [
       "<Figure size 640x480 with 1 Axes>"
      ]
     },
     "metadata": {},
     "output_type": "display_data"
    }
   ],
   "source": [
    "def mse(y, y_pred):\n",
    "    return torch.mean((y - y_pred)**2)\n",
    "    \n",
    "lr = 0.001\n",
    "epochs = 20\n",
    "w, b = torch.tensor(1., requires_grad=True), torch.tensor(1., requires_grad=True)\n",
    "losses = []\n",
    "\n",
    "for i in range(epochs):\n",
    "    y_pred = w * x + b\n",
    "\n",
    "    loss = mse(y, y_pred)\n",
    "\n",
    "    loss.backward()\n",
    "\n",
    "    with torch.no_grad():\n",
    "        w -= lr * w.grad\n",
    "        b -= lr * b.grad\n",
    "        losses.append(loss.detach())\n",
    "        print(loss)\n",
    "    w.grad.zero_()\n",
    "    b.grad.zero_()\n",
    "        \n",
    "plt.plot(list(range(1,epochs+1)), losses)\n",
    "plt.xlabel('No. of Epochs')\n",
    "plt.ylabel('Loss')\n",
    "plt.show()"
   ]
  },
  {
   "cell_type": "markdown",
   "id": "556a3fec-5b2a-4338-a706-e06a8874f1eb",
   "metadata": {},
   "source": [
    "### 2) Find the value of w.grad, b.grad using analytical solution for the given linear regression problem. Initial value of w = b =1. Learning parameter is set to 0.001. Implement the same and verify the values of w.grad , b.grad and updated parameter values for two epochs. Consider the difference between predicted and target values of y is defined as (yp-y)."
   ]
  },
  {
   "cell_type": "code",
   "execution_count": 70,
   "id": "98b48b84-7adf-4d45-9092-fddcd4b3fb9d",
   "metadata": {},
   "outputs": [
    {
     "name": "stdout",
     "output_type": "stream",
     "text": [
      "tensor(1., requires_grad=True) tensor(1., requires_grad=True)\n",
      "Epoch 1: w_grad=-174.0, b_grad=-52.0\n",
      "Epoch 1: Loss=757.0\n",
      "\n",
      "tensor(1.1740, requires_grad=True) tensor(1.0520, requires_grad=True)\n",
      "Epoch 2: w_grad=-170.20799255371094, b_grad=-50.85199737548828\n",
      "Epoch 2: Loss=724.3797607421875\n",
      "\n"
     ]
    },
    {
     "data": {
      "text/plain": [
       "(tensor(1.3442, requires_grad=True), tensor(1.1029, requires_grad=True))"
      ]
     },
     "execution_count": 70,
     "metadata": {},
     "output_type": "execute_result"
    }
   ],
   "source": [
    "lr = 0.001\n",
    "epochs = 2\n",
    "w, b = torch.tensor(1., requires_grad=True), torch.tensor(1., requires_grad=True)\n",
    "\n",
    "x = torch.tensor([2, 4])\n",
    "y = torch.tensor([20, 40])\n",
    "\n",
    "for i in range(epochs):\n",
    "    print(w, b)\n",
    "    y_pred = w * x + b\n",
    "\n",
    "    loss = mse(y, y_pred)\n",
    "\n",
    "    loss.backward()\n",
    "    \n",
    "    print(f\"Epoch {i+1}: w_grad={w.grad.item()}, b_grad={b.grad.item()}\")\n",
    "\n",
    "    with torch.no_grad():\n",
    "        w -= lr * w.grad\n",
    "        b -= lr * b.grad\n",
    "\n",
    "    w.grad.zero_()\n",
    "    b.grad.zero_()\n",
    "    \n",
    "    print(f\"Epoch {i+1}: Loss={loss.item()}\\n\")\n",
    "\n",
    "w, b"
   ]
  },
  {
   "cell_type": "markdown",
   "id": "ec27170e-8adb-4cc3-80e3-013d9f55d02c",
   "metadata": {},
   "source": [
    "### 3) Revise the linear regression model by defining a user defined class titled RegressionModel with two parameters w and b as its member variables. Define a constructor to initialize w and b with value 1. Define four member functions namely forward(x) to implement wx+b, update() to update w and b values, reset_grad() to reset parameters to zero, criterion(y, yp) to implement MSE Loss given the predicted y value yp and the target label y. Define an object of this class named model and invoke all the methods. Plot the graph of epoch vs loss by varying epoch to 100 iterations."
   ]
  },
  {
   "cell_type": "markdown",
   "id": "dc7cf3a4-2182-4df5-b55c-14b69b5cccee",
   "metadata": {},
   "source": [
    "x = torch.tensor([5.0, 7.0, 12.0, 16.0, 20.0])\n",
    "\n",
    "y = torch.tensor([40.0, 120.0, 180.0, 210.0, 240.0])\n",
    "\n",
    "learning_rate = torch.tensor(0.001)"
   ]
  },
  {
   "cell_type": "code",
   "execution_count": 71,
   "id": "595fc655-4f2f-4bd6-90ff-237bccd23de2",
   "metadata": {},
   "outputs": [],
   "source": [
    "class RegressionModel:\n",
    "    def __init__(self, w, b, lr=0.001):\n",
    "        self.w = torch.tensor(w, requires_grad=True)\n",
    "        self.b = torch.tensor(b, requires_grad=True)\n",
    "        self.lr = lr\n",
    "        self.y = None\n",
    "        self.loss = None\n",
    "        self.losses = []\n",
    "    \n",
    "    def forward(self, x):\n",
    "        self.y = self.w * x + self.b\n",
    "        return self.y\n",
    "    \n",
    "    def update(self):\n",
    "        self.loss.backward()\n",
    "        with torch.no_grad():\n",
    "            self.w -= self.lr * self.w.grad\n",
    "            self.b -= self.lr * self.b.grad\n",
    "    \n",
    "    def reset_grad(self):\n",
    "        self.w.grad.zero_()\n",
    "        self.b.grad.zero_()\n",
    "    \n",
    "    def criterion(self, y, yp):\n",
    "        self.loss = torch.mean((y - y_pred)**2) \n",
    "        self.losses.append(self.loss.detach())\n",
    "        return self.loss\n"
   ]
  },
  {
   "cell_type": "code",
   "execution_count": 72,
   "id": "ee6d0976-480d-47fd-a1e6-479876666d34",
   "metadata": {},
   "outputs": [
    {
     "data": {
      "image/png": "[encoded data removed]",
      "text/plain": [
       "<Figure size 640x480 with 1 Axes>"
      ]
     },
     "metadata": {},
     "output_type": "display_data"
    }
   ],
   "source": [
    "model = RegressionModel(1., 1.)\n",
    "epochs = 100\n",
    "\n",
    "x = torch.tensor([5.0, 7.0, 12.0, 16.0, 20.0])\n",
    "y = torch.tensor([40.0, 120.0, 180.0, 210.0, 240.0])\n",
    "\n",
    "for i in range(epochs):\n",
    "    y_pred = model.forward(x)\n",
    "    loss = model.criterion(y, y_pred)\n",
    "    model.update()\n",
    "    model.reset_grad()\n",
    "\n",
    "plt.plot(np.arange(1, epochs+1), model.losses)\n",
    "plt.xlabel('No. of Epochs')\n",
    "plt.ylabel('Loss')\n",
    "plt.show()"
   ]
  },
  {
   "cell_type": "markdown",
   "id": "b4d7d8b9-4f27-4b78-902d-6a11d7c7f4d3",
   "metadata": {},
   "source": [
    "### 4) Convert your program written in Qn 3 to extend nn.module in your model. Also override the necessary methods to fit the regression line. Illustrate the use of Dataset and DataLoader from torch.utils.data in your implementation. Use the SGD Optimizer torch.optim.SGD()"
   ]
  },
  {
   "cell_type": "code",
   "execution_count": 73,
   "id": "796a2614-586c-4552-a52f-939a3c812c86",
   "metadata": {},
   "outputs": [
    {
     "name": "stdout",
     "output_type": "stream",
     "text": [
      "Epoch [10/100], Loss: 13552.6689\n",
      "Epoch [20/100], Loss: 6875.4150\n",
      "Epoch [30/100], Loss: 3609.3821\n",
      "Epoch [40/100], Loss: 2011.8713\n",
      "Epoch [50/100], Loss: 1230.4796\n",
      "Epoch [60/100], Loss: 848.2745\n",
      "Epoch [70/100], Loss: 661.3213\n",
      "Epoch [80/100], Loss: 569.8713\n",
      "Epoch [90/100], Loss: 525.1349\n",
      "Epoch [100/100], Loss: 503.2474\n"
     ]
    }
   ],
   "source": [
    "def criterion(yp, y):\n",
    "    return torch.mean((y - y_pred)**2) \n",
    "\n",
    "x = torch.tensor([5.0, 7.0, 12.0, 16.0, 20.0])\n",
    "y = torch.tensor([40.0, 120.0, 180.0, 210.0, 240.0])\n",
    "\n",
    "w = 1.\n",
    "b = 1.\n",
    "\n",
    "# Define the RegressionModel class inheriting from nn.Module\n",
    "class RegressionModel(nn.Module):\n",
    "    def __init__(self, w, b):\n",
    "        super(RegressionModel, self).__init__()\n",
    "        self.w = nn.Parameter(torch.tensor(w, requires_grad=True, dtype=torch.float))\n",
    "        self.b = nn.Parameter(torch.tensor(b, requires_grad=True, dtype=torch.float))\n",
    "    \n",
    "    def forward(self, x):\n",
    "        return self.w * x + self.b\n",
    "\n",
    "# Custom Dataset to handle input and output data\n",
    "class LinearDataset(Dataset):\n",
    "    def __init__(self, x_data, y_data):\n",
    "        self.x_data = x_data\n",
    "        self.y_data = y_data\n",
    "    \n",
    "    def __len__(self):\n",
    "        return len(self.x_data)\n",
    "    \n",
    "    def __getitem__(self, idx):\n",
    "        return self.x_data[idx], self.y_data[idx]\n",
    "\n",
    "# Create the dataset and data loader\n",
    "dataset = LinearDataset(x, y)\n",
    "dataloader = DataLoader(dataset, batch_size=16, shuffle=False)\n",
    "\n",
    "# Initialize the model, loss function, and optimizer\n",
    "model = RegressionModel(w, b)\n",
    "#criterion = nn.MSELoss()\n",
    "optimizer = optim.SGD(model.parameters(), lr=1e-4)\n",
    "\n",
    "# Training loop\n",
    "num_epochs = 100\n",
    "for epoch in range(num_epochs):\n",
    "    for batch_x, batch_y in dataloader:\n",
    "        # Zero the gradients\n",
    "        optimizer.zero_grad()\n",
    "        \n",
    "        # Forward pass\n",
    "        y_pred = model(batch_x)\n",
    "        \n",
    "        # Compute loss\n",
    "        loss = criterion(y_pred, batch_y)\n",
    "        \n",
    "        # Backward pass\n",
    "        loss.backward()\n",
    "        \n",
    "        # Update weights\n",
    "        optimizer.step()\n",
    "    \n",
    "    if (epoch + 1) % 10 == 0:\n",
    "        print(f'Epoch [{epoch+1}/{num_epochs}], Loss: {loss.item():.4f}')\n"
   ]
  },
  {
   "cell_type": "markdown",
   "id": "cc970ae6-214c-4c8d-a152-816089d9ed25",
   "metadata": {},
   "source": [
    "### 5) Use PyTorch’s nn.Linear() in your implementation to perform linear regression for the data provided in Qn. 1. Also plot the graph."
   ]
  },
  {
   "cell_type": "code",
   "execution_count": 74,
   "id": "11718230-481a-4833-9632-4e6ed0d25908",
   "metadata": {},
   "outputs": [
    {
     "name": "stdout",
     "output_type": "stream",
     "text": [
      "Epoch [10/100], Loss: 0.0006\n",
      "Epoch [20/100], Loss: 0.0000\n",
      "Epoch [30/100], Loss: 0.0025\n",
      "Epoch [40/100], Loss: 0.0008\n",
      "Epoch [50/100], Loss: 0.0007\n",
      "Epoch [60/100], Loss: 0.3828\n",
      "Epoch [70/100], Loss: 0.0341\n",
      "Epoch [80/100], Loss: 0.0024\n",
      "Epoch [90/100], Loss: 0.0002\n",
      "Epoch [100/100], Loss: 0.0321\n"
     ]
    },
    {
     "data": {
      "image/png": "[encoded data removed]",
      "text/plain": [
       "<Figure size 640x480 with 1 Axes>"
      ]
     },
     "metadata": {},
     "output_type": "display_data"
    }
   ],
   "source": [
    "x = torch.tensor( [12.4, 14.3, 14.5, 14.9, 16.1, 16.9, 16.5, 15.4, 17.0, 17.9, 18.8, 20.3, 22.4,\n",
    "19.4, 15.5, 16.7, 17.3, 18.4, 19.2, 17.4, 19.5, 19.7, 21.2])\n",
    "\n",
    "y = torch.tensor( [11.2, 12.5, 12.7, 13.1, 14.1, 14.8, 14.4, 13.4, 14.9, 15.6, 16.4, 17.7, 19.6,\n",
    "16.9, 14.0, 14.6, 15.1, 16.1, 16.8, 15.2, 17.0, 17.2, 18.6])\n",
    "\n",
    "losses = []\n",
    "\n",
    "# Create the dataset and data loader\n",
    "dataset = LinearDataset(x, y)\n",
    "dataloader = DataLoader(dataset, batch_size=1, shuffle=True)\n",
    "\n",
    "# Initialize the model, loss function, and optimizer\n",
    "model = nn.Linear(1,1)\n",
    "#criterion = nn.MSELoss()\n",
    "optimizer = optim.SGD(model.parameters(), lr=0.0001)\n",
    "\n",
    "# Training loop\n",
    "num_epochs = 100\n",
    "for epoch in range(num_epochs):\n",
    "    for batch_x, batch_y in dataloader:\n",
    "        # Zero the gradients\n",
    "        optimizer.zero_grad()\n",
    "        \n",
    "        # Forward pass\n",
    "        y_pred = model(batch_x)\n",
    "        \n",
    "        # Compute loss\n",
    "        loss = criterion(y_pred, batch_y)\n",
    "        \n",
    "        # Backward pass\n",
    "        loss.backward()\n",
    "        \n",
    "        # Update weights\n",
    "        optimizer.step()\n",
    "    \n",
    "    losses.append(loss.item())\n",
    "    \n",
    "    if (epoch + 1) % 10 == 0:\n",
    "        print(f'Epoch [{epoch+1}/{num_epochs}], Loss: {loss.item():.4f}')\n",
    "\n",
    "plt.plot(np.arange(1, num_epochs + 1), losses)\n",
    "plt.xlabel('No. of Epochs')\n",
    "plt.ylabel('Loss')\n",
    "plt.show()"
   ]
  },
  {
   "cell_type": "markdown",
   "id": "54d49550-9de7-4b09-81d4-4fe628ed96b9",
   "metadata": {},
   "source": [
    "### 6) Implement multiple linear regression for the data provided below"
   ]
  },
  {
   "cell_type": "markdown",
   "id": "84ed0012-702d-41d4-aa8b-92d9ef65913c",
   "metadata": {},
   "source": [
    "| Subject | X1 | X2 | Y    |\n",
    "|---------|----|----|------|\n",
    "| 1       | 3  | 8  | -3.7 |\n",
    "| 2       | 4  | 5  | 3.5  |\n",
    "| 3       | 5  | 7  | 2.5  |\n",
    "| 4       | 6  | 3  | 11.5 |\n",
    "| 5       | 2  | 1  | 5.7  |\n",
    "\n",
    "Verify your answer for the data point X1=3, X2=2."
   ]
  },
  {
   "cell_type": "code",
   "execution_count": 75,
   "id": "1d698375-e247-4682-a7f1-c1517776f22c",
   "metadata": {},
   "outputs": [
    {
     "name": "stdout",
     "output_type": "stream",
     "text": [
      "Epoch [1/100], Loss: 12.3834\n",
      "Epoch [2/100], Loss: 11.9640\n",
      "Epoch [3/100], Loss: 11.5118\n",
      "Epoch [4/100], Loss: 11.1089\n",
      "Epoch [5/100], Loss: 10.7362\n",
      "Epoch [6/100], Loss: 10.3819\n",
      "Epoch [7/100], Loss: 10.0413\n",
      "Epoch [8/100], Loss: 9.7126\n",
      "Epoch [9/100], Loss: 9.3948\n",
      "Epoch [10/100], Loss: 9.0875\n",
      "Epoch [11/100], Loss: 8.7903\n",
      "Epoch [12/100], Loss: 8.5028\n",
      "Epoch [13/100], Loss: 8.2247\n",
      "Epoch [14/100], Loss: 7.9558\n",
      "Epoch [15/100], Loss: 7.6957\n",
      "Epoch [16/100], Loss: 7.4440\n",
      "Epoch [17/100], Loss: 7.2007\n",
      "Epoch [18/100], Loss: 6.9653\n",
      "Epoch [19/100], Loss: 6.7377\n",
      "Epoch [20/100], Loss: 6.5175\n",
      "Epoch [21/100], Loss: 6.3045\n",
      "Epoch [22/100], Loss: 6.0985\n",
      "Epoch [23/100], Loss: 5.8993\n",
      "Epoch [24/100], Loss: 5.7067\n",
      "Epoch [25/100], Loss: 5.5203\n",
      "Epoch [26/100], Loss: 5.3401\n",
      "Epoch [27/100], Loss: 5.1658\n",
      "Epoch [28/100], Loss: 4.9972\n",
      "Epoch [29/100], Loss: 4.8342\n",
      "Epoch [30/100], Loss: 4.6766\n",
      "Epoch [31/100], Loss: 4.5241\n",
      "Epoch [32/100], Loss: 4.3766\n",
      "Epoch [33/100], Loss: 4.2340\n",
      "Epoch [34/100], Loss: 4.0961\n",
      "Epoch [35/100], Loss: 3.9627\n",
      "Epoch [36/100], Loss: 3.8338\n",
      "Epoch [37/100], Loss: 3.7090\n",
      "Epoch [38/100], Loss: 3.5884\n",
      "Epoch [39/100], Loss: 3.4718\n",
      "Epoch [40/100], Loss: 3.3590\n",
      "Epoch [41/100], Loss: 3.2500\n",
      "Epoch [42/100], Loss: 3.1445\n",
      "Epoch [43/100], Loss: 3.0425\n",
      "Epoch [44/100], Loss: 2.9439\n",
      "Epoch [45/100], Loss: 2.8485\n",
      "Epoch [46/100], Loss: 2.7563\n",
      "Epoch [47/100], Loss: 2.6672\n",
      "Epoch [48/100], Loss: 2.5810\n",
      "Epoch [49/100], Loss: 2.4976\n",
      "Epoch [50/100], Loss: 2.4170\n",
      "Epoch [51/100], Loss: 2.3391\n",
      "Epoch [52/100], Loss: 2.2638\n",
      "Epoch [53/100], Loss: 2.1909\n",
      "Epoch [54/100], Loss: 2.1205\n",
      "Epoch [55/100], Loss: 2.0524\n",
      "Epoch [56/100], Loss: 1.9866\n",
      "Epoch [57/100], Loss: 1.9229\n",
      "Epoch [58/100], Loss: 1.8614\n",
      "Epoch [59/100], Loss: 1.8019\n",
      "Epoch [60/100], Loss: 1.7444\n",
      "Epoch [61/100], Loss: 1.6888\n",
      "Epoch [62/100], Loss: 1.6350\n",
      "Epoch [63/100], Loss: 1.5831\n",
      "Epoch [64/100], Loss: 1.5329\n",
      "Epoch [65/100], Loss: 1.4843\n",
      "Epoch [66/100], Loss: 1.4374\n",
      "Epoch [67/100], Loss: 1.3920\n",
      "Epoch [68/100], Loss: 1.3481\n",
      "Epoch [69/100], Loss: 1.3057\n",
      "Epoch [70/100], Loss: 1.2648\n",
      "Epoch [71/100], Loss: 1.2252\n",
      "Epoch [72/100], Loss: 1.1869\n",
      "Epoch [73/100], Loss: 1.1499\n",
      "Epoch [74/100], Loss: 1.1141\n",
      "Epoch [75/100], Loss: 1.0796\n",
      "Epoch [76/100], Loss: 1.0462\n",
      "Epoch [77/100], Loss: 1.0139\n",
      "Epoch [78/100], Loss: 0.9827\n",
      "Epoch [79/100], Loss: 0.9525\n",
      "Epoch [80/100], Loss: 0.9234\n",
      "Epoch [81/100], Loss: 0.8952\n",
      "Epoch [82/100], Loss: 0.8680\n",
      "Epoch [83/100], Loss: 0.8417\n",
      "Epoch [84/100], Loss: 0.8163\n",
      "Epoch [85/100], Loss: 0.7918\n",
      "Epoch [86/100], Loss: 0.7681\n",
      "Epoch [87/100], Loss: 0.7451\n",
      "Epoch [88/100], Loss: 0.7230\n",
      "Epoch [89/100], Loss: 0.7016\n",
      "Epoch [90/100], Loss: 0.6809\n",
      "Epoch [91/100], Loss: 0.6610\n",
      "Epoch [92/100], Loss: 0.6417\n",
      "Epoch [93/100], Loss: 0.6230\n",
      "Epoch [94/100], Loss: 0.6050\n",
      "Epoch [95/100], Loss: 0.5876\n",
      "Epoch [96/100], Loss: 0.5708\n",
      "Epoch [97/100], Loss: 0.5546\n",
      "Epoch [98/100], Loss: 0.5389\n",
      "Epoch [99/100], Loss: 0.5238\n",
      "Epoch [100/100], Loss: 0.5092\n"
     ]
    },
    {
     "data": {
      "image/png": "[encoded data removed]",
      "text/plain": [
       "<Figure size 640x480 with 1 Axes>"
      ]
     },
     "metadata": {},
     "output_type": "display_data"
    }
   ],
   "source": [
    "x1 = torch.tensor([3, 4, 5, 6, 2])\n",
    "x2 = torch.tensor([8, 5, 7, 3, 1])\n",
    "x = torch.stack((x1, x2), dim=1)\n",
    "y = torch.tensor([-3.7, 3.5, 2.5, 11.5, 5.7])\n",
    "\n",
    "losses = []\n",
    "\n",
    "epochs = 20\n",
    "w, b = [1., 1.], 1.\n",
    "\n",
    "# Create the dataset and data loader\n",
    "dataset = LinearDataset(x, y)\n",
    "dataloader = DataLoader(dataset, batch_size=1, shuffle=False)\n",
    "\n",
    "# Initialize the model, loss function, and optimizer\n",
    "model = RegressionModel(w, b)\n",
    "#criterion = nn.MSELoss()\n",
    "optimizer = optim.SGD(model.parameters(), lr=1e-2)\n",
    "\n",
    "# Training loop\n",
    "num_epochs = 100\n",
    "for epoch in range(num_epochs):\n",
    "    for batch_x, batch_y in dataloader:\n",
    "        # Zero the gradients\n",
    "        optimizer.zero_grad()\n",
    "        \n",
    "        # Forward pass\n",
    "        y_pred = model(batch_x)\n",
    "        \n",
    "        # Compute loss\n",
    "        loss = criterion(y_pred, batch_y)\n",
    "        \n",
    "        # Backward pass\n",
    "        loss.backward()\n",
    "        \n",
    "        # Update weights\n",
    "        optimizer.step()\n",
    "    \n",
    "    losses.append(loss.detach())\n",
    "    if (epoch + 1) % 1 == 0:\n",
    "        print(f'Epoch [{epoch+1}/{num_epochs}], Loss: {loss.item():.4f}')\n",
    "\n",
    "plt.plot(np.arange(1, num_epochs+1), losses)\n",
    "plt.xlabel('No. of Epochs')\n",
    "plt.ylabel('Loss')\n",
    "plt.show()\n"
   ]
  },
  {
   "cell_type": "markdown",
   "id": "b9f4495a-9af6-4e99-a095-30dd9cc6c083",
   "metadata": {},
   "source": [
    "### 7) Implement logistic regression\n",
    "\n",
    "x = [1, 5, 10, 10, 25, 50, 70, 75, 100,]\n",
    "\n",
    "y = [0, 0, 0, 0, 0, 1, 1, 1, 1]"
   ]
  },
  {
   "cell_type": "code",
   "execution_count": 76,
   "id": "fcb0e1bf-b063-4d93-9c9b-e2c8ee264c67",
   "metadata": {},
   "outputs": [
    {
     "name": "stdout",
     "output_type": "stream",
     "text": [
      "Loss for Epoch 10/200: 1.3185741901397705\n",
      "Loss for Epoch 20/200: 1.2531628608703613\n",
      "Loss for Epoch 30/200: 1.1903891563415527\n",
      "Loss for Epoch 40/200: 1.1303671598434448\n",
      "Loss for Epoch 50/200: 1.0731796026229858\n",
      "Loss for Epoch 60/200: 1.0188769102096558\n",
      "Loss for Epoch 70/200: 0.9674785137176514\n",
      "Loss for Epoch 80/200: 0.9189727306365967\n",
      "Loss for Epoch 90/200: 0.8733193278312683\n",
      "Loss for Epoch 100/200: 0.8304525017738342\n",
      "Loss for Epoch 110/200: 0.7902848124504089\n",
      "Loss for Epoch 120/200: 0.7527111768722534\n",
      "Loss for Epoch 130/200: 0.7176131010055542\n",
      "Loss for Epoch 140/200: 0.6848623752593994\n",
      "Loss for Epoch 150/200: 0.6543242931365967\n",
      "Loss for Epoch 160/200: 0.6258624792098999\n",
      "Loss for Epoch 170/200: 0.5993388295173645\n",
      "Loss for Epoch 180/200: 0.5746187567710876\n",
      "Loss for Epoch 190/200: 0.5515710711479187\n",
      "Loss for Epoch 200/200: 0.5300692915916443\n"
     ]
    },
    {
     "data": {
      "image/png": "[encoded data removed]",
      "text/plain": [
       "<Figure size 640x480 with 1 Axes>"
      ]
     },
     "metadata": {},
     "output_type": "display_data"
    }
   ],
   "source": [
    "class LogisticModel(nn.Module):\n",
    "    def __init__(self, w, b):\n",
    "        super(LogisticModel, self).__init__()\n",
    "        self.w = nn.Parameter(torch.tensor(w, requires_grad=True, dtype=torch.float))\n",
    "        self.b = nn.Parameter(torch.tensor(b, requires_grad=True, dtype=torch.float))\n",
    "    \n",
    "    def forward(self, x):\n",
    "        z = self.w * x + self.b\n",
    "        #print(\"stuff:\", self.w, x, self.b)\n",
    "        return torch.sigmoid(z)   # 1 / (1 + torch.exp(-z))\n",
    "\n",
    "x = torch.tensor([1, 5, 10, 10, 25, 50, 70, 75, 100], dtype=torch.float)\n",
    "y = torch.tensor([0, 0, 0, 0, 0, 1, 1, 1, 1], dtype=torch.float)\n",
    "\n",
    "losses = []\n",
    "\n",
    "epochs = 20\n",
    "w, b = 1., 1.\n",
    "\n",
    "# Create the dataset and data loader\n",
    "dataset = LinearDataset(x, y)\n",
    "dataloader = DataLoader(dataset, batch_size=1, shuffle=False)\n",
    "\n",
    "# Initialize the model, loss function, and optimizer\n",
    "model = LogisticModel(w, b)\n",
    "criterion = nn.BCELoss()\n",
    "optimizer = optim.SGD(model.parameters(), lr=0.005)\n",
    "\n",
    "# Training loop\n",
    "num_epochs = 200\n",
    "for epoch in range(num_epochs):\n",
    "    epoch_loss = []\n",
    "    for batch_x, batch_y in dataloader:\n",
    "        # Zero the gradients\n",
    "        optimizer.zero_grad()\n",
    "        \n",
    "        # Forward pass\n",
    "        y_pred = model(batch_x)\n",
    "        \n",
    "        # Compute loss\n",
    "        loss = criterion(y_pred, batch_y)\n",
    "        \n",
    "        # Backward pass\n",
    "        loss.backward()\n",
    "        epoch_loss.append(loss.detach())\n",
    "        \n",
    "        # Update weights\n",
    "        optimizer.step()\n",
    "    \n",
    "    losses.append(sum(epoch_loss) / len(epoch_loss))\n",
    "    if (epoch+1) % 10 == 0:\n",
    "        print(f\"Loss for Epoch {epoch+1}/{num_epochs}: {losses[-1]}\")\n",
    "\n",
    "plt.plot(np.arange(1, num_epochs+1), losses)\n",
    "plt.xlabel('No. of Epochs')\n",
    "plt.ylabel('Loss')\n",
    "plt.show()\n"
   ]
  }
 ],
 "metadata": {
  "kernelspec": {
   "display_name": "Python (myenv)",
   "language": "python",
   "name": "myenv"
  },
  "language_info": {
   "codemirror_mode": {
    "name": "ipython",
    "version": 3
   },
   "file_extension": ".py",
   "mimetype": "text/x-python",
   "name": "python",
   "nbconvert_exporter": "python",
   "pygments_lexer": "ipython3",
   "version": "3.12.3"
  }
 },
 "nbformat": 4,
 "nbformat_minor": 5
}
