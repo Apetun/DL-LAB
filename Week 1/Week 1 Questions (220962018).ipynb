{
 "cells": [
  {
   "cell_type": "markdown",
   "id": "9f6c78ef-29ee-471f-95ee-5e31932c3c30",
   "metadata": {},
   "source": [
    "## Week 1 Lab Exercise"
   ]
  },
  {
   "cell_type": "code",
   "execution_count": 1,
   "id": "507848ec-ab02-4404-b277-53cea643e285",
   "metadata": {},
   "outputs": [
    {
     "data": {
      "text/plain": [
       "(1, 'cuda')"
      ]
     },
     "execution_count": 1,
     "metadata": {},
     "output_type": "execute_result"
    }
   ],
   "source": [
    "import torch\n",
    "device = \"cuda\" if torch.cuda.is_available() else \"cpu\"\n",
    "torch.cuda.device_count() , device"
   ]
  },
  {
   "cell_type": "markdown",
   "id": "b55a1a8c-e4ec-49d4-90e7-4cce8b1b5b52",
   "metadata": {},
   "source": [
    "## Lab Exercise"
   ]
  },
  {
   "cell_type": "markdown",
   "id": "acc44f34-53f5-4fcd-a144-372fea3ff85a",
   "metadata": {},
   "source": [
    "### 1) Illustrate the functions for Reshaping, viewing, stacking, squeezing and unsqueezing of tensors"
   ]
  },
  {
   "cell_type": "code",
   "execution_count": 2,
   "id": "bebde1c5-a903-4a6f-8917-322472fd8aa7",
   "metadata": {},
   "outputs": [
    {
     "name": "stdout",
     "output_type": "stream",
     "text": [
      "Original Tensor:\n",
      "tensor([ 0,  1,  2,  3,  4,  5,  6,  7,  8,  9, 10, 11])\n",
      "\n",
      "Reshaped Tensor:\n",
      "tensor([[ 0,  1,  2,  3],\n",
      "        [ 4,  5,  6,  7],\n",
      "        [ 8,  9, 10, 11]])\n"
     ]
    }
   ],
   "source": [
    "x = torch.arange(12)\n",
    "print(\"Original Tensor:\")\n",
    "print(x)\n",
    "\n",
    "# Reshape the tensor\n",
    "reshaped_x = x.reshape(3, 4) \n",
    "print(\"\\nReshaped Tensor:\")\n",
    "print(reshaped_x)"
   ]
  },
  {
   "cell_type": "code",
   "execution_count": 3,
   "id": "426f0581-a455-41e1-ac92-173f33485259",
   "metadata": {},
   "outputs": [
    {
     "name": "stdout",
     "output_type": "stream",
     "text": [
      "\n",
      "Viewed Tensor:\n",
      "tensor([[ 0,  1,  2,  3],\n",
      "        [ 4,  5,  6,  7],\n",
      "        [ 8,  9, 10, 11]])\n"
     ]
    }
   ],
   "source": [
    "# View the tensor in a different shape (same as reshape here)\n",
    "viewed_x = x.view(3, 4)\n",
    "print(\"\\nViewed Tensor:\")\n",
    "print(viewed_x)"
   ]
  },
  {
   "cell_type": "code",
   "execution_count": 4,
   "id": "2fffbb53-a5d6-4b55-a4fd-5ecd7ffad356",
   "metadata": {},
   "outputs": [
    {
     "name": "stdout",
     "output_type": "stream",
     "text": [
      "\n",
      "Stacked Tensor:\n",
      "tensor([[ 0.,  1.,  2.,  3.,  4.,  5.,  6.,  7.,  8.,  9., 10., 11.],\n",
      "        [ 1.,  1.,  1.,  1.,  1.,  1.,  1.,  1.,  1.,  1.,  1.,  1.]])\n"
     ]
    }
   ],
   "source": [
    "# Stack two tensors along a new dimension (dimension 0 here)\n",
    "y = torch.ones(12)\n",
    "stacked = torch.stack((x, y), dim=0)\n",
    "print(\"\\nStacked Tensor:\")\n",
    "print(stacked)"
   ]
  },
  {
   "cell_type": "code",
   "execution_count": 5,
   "id": "e03a5ed7-4e2e-4786-881d-c17627eb10f4",
   "metadata": {},
   "outputs": [
    {
     "name": "stdout",
     "output_type": "stream",
     "text": [
      "\n",
      "Tensor with extra dimensions:\n",
      "tensor([[[1.],\n",
      "         [1.],\n",
      "         [1.]]])\n",
      "\n",
      "Squeezed Tensor:\n",
      "tensor([1., 1., 1.])\n"
     ]
    }
   ],
   "source": [
    "# Create a tensor with extra dimensions (e.g., 1x3x1)\n",
    "z = torch.ones(1, 3, 1)\n",
    "print(\"\\nTensor with extra dimensions:\")\n",
    "print(z)\n",
    "\n",
    "# Squeeze to remove dimensions of size 1\n",
    "squeezed_z = z.squeeze()\n",
    "print(\"\\nSqueezed Tensor:\")\n",
    "print(squeezed_z)"
   ]
  },
  {
   "cell_type": "code",
   "execution_count": 6,
   "id": "bffdcf90-b2a5-494c-8a48-7677c17e998b",
   "metadata": {},
   "outputs": [
    {
     "name": "stdout",
     "output_type": "stream",
     "text": [
      "\n",
      "Unsqueezed Tensor:\n",
      "tensor([[[[1.],\n",
      "          [1.],\n",
      "          [1.]]]])\n"
     ]
    }
   ],
   "source": [
    "# Unsqueeze the tensor to add a new dimension at position 0\n",
    "unsqueezed_z = z.unsqueeze(0)\n",
    "print(\"\\nUnsqueezed Tensor:\")\n",
    "print(unsqueezed_z)"
   ]
  },
  {
   "cell_type": "markdown",
   "id": "1558ba91-46e2-4c2c-bf28-c15aba728dc5",
   "metadata": {},
   "source": [
    "### 2) Illustrate the use of torch.permute()"
   ]
  },
  {
   "cell_type": "code",
   "execution_count": 7,
   "id": "b11a94a0-838a-4c10-ac85-e0bcbb668dcb",
   "metadata": {},
   "outputs": [
    {
     "name": "stdout",
     "output_type": "stream",
     "text": [
      "Original tensor:\n",
      "tensor([[-0.3001],\n",
      "        [-1.6191],\n",
      "        [-1.7779]])\n",
      "\n",
      "Permuted tensor (dimensions reordered to (1, 3)):\n",
      "tensor([[-0.3001, -1.6191, -1.7779]])\n"
     ]
    }
   ],
   "source": [
    "# Create a tensor with shape (3, 1)\n",
    "tensor = torch.randn(3, 1)\n",
    "print(\"Original tensor:\")\n",
    "print(tensor)\n",
    "\n",
    "# Permute the tensor to change the order of dimensions to (1, 3)\n",
    "permuted_tensor = tensor.permute(1, 0)\n",
    "print(\"\\nPermuted tensor (dimensions reordered to (1, 3)):\")\n",
    "print(permuted_tensor)"
   ]
  },
  {
   "cell_type": "markdown",
   "id": "12147759-bb3e-4fc6-8ec4-1a1b6a15364a",
   "metadata": {},
   "source": [
    "### 3) Illustrate indexing in tensors"
   ]
  },
  {
   "cell_type": "markdown",
   "id": "7c321a6f-13b5-43ce-8b61-46805d028db8",
   "metadata": {},
   "source": [
    "#### Basic Indexing"
   ]
  },
  {
   "cell_type": "code",
   "execution_count": 8,
   "id": "a53c6ad6-bbfc-44e7-b463-940743074621",
   "metadata": {},
   "outputs": [
    {
     "name": "stdout",
     "output_type": "stream",
     "text": [
      "Original Tensor:\n",
      "tensor([[1, 2, 3],\n",
      "        [4, 5, 6],\n",
      "        [7, 8, 9]])\n",
      "\n",
      "Element at position (0, 1): tensor(2)\n",
      "\n",
      "Element at position (2, 2): tensor(9)\n"
     ]
    }
   ],
   "source": [
    "tensor = torch.tensor([[1, 2, 3], [4, 5, 6], [7, 8, 9]])\n",
    "\n",
    "print(\"Original Tensor:\")\n",
    "print(tensor)\n",
    "\n",
    "element = tensor[0, 1]\n",
    "print(\"\\nElement at position (0, 1):\", element)\n",
    "\n",
    "element = tensor[2, 2]\n",
    "print(\"\\nElement at position (2, 2):\", element)"
   ]
  },
  {
   "cell_type": "markdown",
   "id": "7e0c308b-8074-483b-b7e5-057e6fc138aa",
   "metadata": {},
   "source": [
    "#### Slicing"
   ]
  },
  {
   "cell_type": "code",
   "execution_count": 9,
   "id": "f469badd-7931-4d88-88ec-feeca991f584",
   "metadata": {},
   "outputs": [
    {
     "name": "stdout",
     "output_type": "stream",
     "text": [
      "\n",
      "First two rows:\n",
      "tensor([[1, 2, 3],\n",
      "        [4, 5, 6]])\n",
      "\n",
      "First two columns:\n",
      "tensor([[1, 2],\n",
      "        [4, 5],\n",
      "        [7, 8]])\n",
      "\n",
      "Rows 1-2, Columns 0 and 2:\n",
      "tensor([[4, 6],\n",
      "        [7, 9]])\n"
     ]
    }
   ],
   "source": [
    "# Slice the first two rows and all columns\n",
    "sub_tensor = tensor[:2, :]\n",
    "print(\"\\nFirst two rows:\")\n",
    "print(sub_tensor)\n",
    "\n",
    "# Slice all rows and the first two columns\n",
    "sub_tensor = tensor[:, :2]\n",
    "print(\"\\nFirst two columns:\")\n",
    "print(sub_tensor)\n",
    "\n",
    "# Slice specific rows and specific columns (rows 1 and 2, columns 0 and 2)\n",
    "sub_tensor = tensor[1:3, [0, 2]]\n",
    "print(\"\\nRows 1-2, Columns 0 and 2:\")\n",
    "print(sub_tensor)"
   ]
  },
  {
   "cell_type": "markdown",
   "id": "1e7651bc-ce1b-4cad-911a-493564bb1e22",
   "metadata": {},
   "source": [
    "#### Boolean Mask Indexing"
   ]
  },
  {
   "cell_type": "code",
   "execution_count": 10,
   "id": "ca9e03cd-077b-4142-b089-d661a63905e6",
   "metadata": {},
   "outputs": [
    {
     "name": "stdout",
     "output_type": "stream",
     "text": [
      "\n",
      "Mask (values greater than 5):\n",
      "tensor([[False, False, False],\n",
      "        [False, False,  True],\n",
      "        [ True,  True,  True]])\n",
      "\n",
      "Elements greater than 5:\n",
      "tensor([6, 7, 8, 9])\n"
     ]
    }
   ],
   "source": [
    "# Create a mask to select elements greater than 5\n",
    "mask = tensor > 5\n",
    "print(\"\\nMask (values greater than 5):\")\n",
    "print(mask)\n",
    "\n",
    "# Use the mask to index the tensor\n",
    "filtered_tensor = tensor[mask]\n",
    "print(\"\\nElements greater than 5:\")\n",
    "print(filtered_tensor)"
   ]
  },
  {
   "cell_type": "markdown",
   "id": "4afc172f-8100-4a03-a13d-ff35b185a87c",
   "metadata": {},
   "source": [
    "#### Integer Indexing with a List of Indices"
   ]
  },
  {
   "cell_type": "code",
   "execution_count": 11,
   "id": "970d66ff-10a5-4dac-bcc2-25c8b8c3f7ed",
   "metadata": {},
   "outputs": [
    {
     "name": "stdout",
     "output_type": "stream",
     "text": [
      "\n",
      "Elements at specific indices (rows 0 and 2, columns 1 and 2):\n",
      "tensor([2, 9])\n"
     ]
    }
   ],
   "source": [
    "# Select elements at specific indices (0th and 2nd row, 1st and 2nd column)\n",
    "indexed_tensor = tensor[[0, 2], [1, 2]]\n",
    "print(\"\\nElements at specific indices (rows 0 and 2, columns 1 and 2):\")\n",
    "print(indexed_tensor)"
   ]
  },
  {
   "cell_type": "markdown",
   "id": "d8b47a2a-8630-4c34-8b49-3b736555aa92",
   "metadata": {},
   "source": [
    "#### Advanced Indexing (using ellipsis and multiple dimensions)"
   ]
  },
  {
   "cell_type": "code",
   "execution_count": 12,
   "id": "82cf6f57-73c9-4970-b72b-f3c217b9b770",
   "metadata": {},
   "outputs": [
    {
     "name": "stdout",
     "output_type": "stream",
     "text": [
      "\n",
      "First matrix, column 1:\n",
      "tensor([2, 5, 8])\n"
     ]
    }
   ],
   "source": [
    "# Create a 3D tensor (2x3x3)\n",
    "tensor_3d = torch.tensor([[[1, 2, 3], [4, 5, 6], [7, 8, 9]],\n",
    "                          [[10, 11, 12], [13, 14, 15], [16, 17, 18]]])\n",
    "\n",
    "# Use ellipsis to select all rows and columns for a specific slice\n",
    "sub_tensor_3d = tensor_3d[0, ..., 1]  # First matrix, all rows, column 1\n",
    "print(\"\\nFirst matrix, column 1:\")\n",
    "print(sub_tensor_3d)"
   ]
  },
  {
   "cell_type": "markdown",
   "id": "3b3ade64-ade5-4a7c-9fee-0e63323c3dc7",
   "metadata": {},
   "source": [
    "### 4) Show how numpy arrays are converted to tensors and back again to numpy arrays"
   ]
  },
  {
   "cell_type": "code",
   "execution_count": 13,
   "id": "4e522432-e700-4de8-af74-0c608c6331c1",
   "metadata": {},
   "outputs": [
    {
     "name": "stdout",
     "output_type": "stream",
     "text": [
      "NumPy array converted to PyTorch tensor:\n",
      "tensor([[1, 2, 3],\n",
      "        [4, 5, 6]])\n",
      "\n",
      "PyTorch tensor converted back to NumPy array:\n",
      "[[1 2 3]\n",
      " [4 5 6]]\n"
     ]
    }
   ],
   "source": [
    "import torch\n",
    "import numpy as np\n",
    "\n",
    "# 1. Convert NumPy array to PyTorch tensor\n",
    "# Create a NumPy array\n",
    "numpy_array = np.array([[1, 2, 3], [4, 5, 6]])\n",
    "\n",
    "# Convert it to a PyTorch tensor\n",
    "tensor = torch.from_numpy(numpy_array)\n",
    "print(\"NumPy array converted to PyTorch tensor:\")\n",
    "print(tensor)\n",
    "\n",
    "# 2. Convert PyTorch tensor back to NumPy array\n",
    "# Convert the tensor back to a NumPy array\n",
    "numpy_array_back = tensor.numpy()\n",
    "print(\"\\nPyTorch tensor converted back to NumPy array:\")\n",
    "print(numpy_array_back)"
   ]
  },
  {
   "cell_type": "markdown",
   "id": "fdb1816e-b684-4d98-a9e9-700532b7ab2e",
   "metadata": {},
   "source": [
    "### 5) Create a random tensor with shape (7,7)"
   ]
  },
  {
   "cell_type": "code",
   "execution_count": 14,
   "id": "b2f53f7a-121f-4184-9a08-faa3ea48c2c7",
   "metadata": {},
   "outputs": [
    {
     "name": "stdout",
     "output_type": "stream",
     "text": [
      "tensor([[ 1.2068, -0.5378, -0.8532, -1.3890, -0.6293,  0.4823, -0.0514],\n",
      "        [-0.8510, -1.4764, -0.9283, -0.3983,  0.3857,  1.1001,  0.4326],\n",
      "        [-1.9952, -0.2872,  1.0153,  1.2807,  0.9160,  1.5807,  1.6830],\n",
      "        [-1.2072,  1.1918,  0.9738, -1.0732, -0.0062, -0.3990, -1.1947],\n",
      "        [ 1.5098, -0.8165, -1.3619,  0.3337,  0.9791, -0.9343,  1.4641],\n",
      "        [-2.3407, -1.6107, -1.2218, -1.1764, -0.5338,  2.2783,  0.3007],\n",
      "        [ 0.7723, -0.4188,  0.5436, -1.1967, -0.0619,  0.4634,  0.2983]])\n"
     ]
    }
   ],
   "source": [
    "# Create a random tensor with shape (7, 7)\n",
    "random_tensor = torch.randn(7, 7)\n",
    "\n",
    "print(random_tensor)"
   ]
  },
  {
   "cell_type": "markdown",
   "id": "b4440def-96fc-4922-ba08-f1f455aef5f5",
   "metadata": {},
   "source": [
    "### 6) Perform a matrix multiplication on the tensor from 5 with another random tensor with shape (1,7)"
   ]
  },
  {
   "cell_type": "code",
   "execution_count": 15,
   "id": "3cd7826c-b904-48c6-b5dc-63e3a5aa4a5a",
   "metadata": {},
   "outputs": [
    {
     "name": "stdout",
     "output_type": "stream",
     "text": [
      "Result of matrix multiplication:\n",
      "tensor([[-2.8388],\n",
      "        [-0.4565],\n",
      "        [ 7.4452],\n",
      "        [ 2.6844],\n",
      "        [-0.3894],\n",
      "        [-0.1411],\n",
      "        [-4.5858]])\n"
     ]
    }
   ],
   "source": [
    "# Create a random tensor with shape (7, 7)\n",
    "tensor_7x7 = torch.randn(7, 7)\n",
    "\n",
    "# Create another random tensor with shape (1, 7)\n",
    "tensor_1x7 = torch.randn(1, 7)\n",
    "\n",
    "# Perform matrix multiplication (7x7) * (7x1)\n",
    "result = torch.matmul(tensor_7x7, tensor_1x7.T)  # Transpose tensor_1x7 to (7, 1)\n",
    "\n",
    "print(\"Result of matrix multiplication:\")\n",
    "print(result)"
   ]
  },
  {
   "cell_type": "markdown",
   "id": "650866c9-3442-4149-b489-b6de4d3d5d07",
   "metadata": {},
   "source": [
    "### 7) Create two random tensors of shape (2,3) and send them both to the GPU"
   ]
  },
  {
   "cell_type": "code",
   "execution_count": 17,
   "id": "445a66a7-78cc-4772-8dc0-de3a26221210",
   "metadata": {},
   "outputs": [
    {
     "name": "stdout",
     "output_type": "stream",
     "text": [
      "Tensor 1 on device: cuda:0\n",
      "tensor([[-0.1455,  1.5434,  0.8633],\n",
      "        [-0.4537, -0.7770,  2.7843]], device='cuda:0')\n",
      "\n",
      "Tensor 2 on device: cuda:0\n",
      "tensor([[-1.0497, -0.4680, -0.1795],\n",
      "        [-0.8937,  0.3618,  1.5267]], device='cuda:0')\n"
     ]
    }
   ],
   "source": [
    "# Check if CUDA (GPU support) is available\n",
    "device = torch.device(\"cuda\" if torch.cuda.is_available() else \"cpu\")\n",
    "\n",
    "# Create two random tensors of shape (2, 3)\n",
    "tensor1 = torch.randn(2, 3)\n",
    "tensor2 = torch.randn(2, 3)\n",
    "\n",
    "# Move the tensors to the GPU\n",
    "tensor1 = tensor1.to(device)\n",
    "tensor2 = tensor2.to(device)\n",
    "\n",
    "# Print the tensors and their device location\n",
    "print(\"Tensor 1 on device:\", tensor1.device)\n",
    "print(tensor1)\n",
    "print(\"\\nTensor 2 on device:\", tensor2.device)\n",
    "print(tensor2)"
   ]
  },
  {
   "cell_type": "markdown",
   "id": "8be15a04-76b9-4a66-934a-76480d210e8f",
   "metadata": {},
   "source": [
    "### 8) Perform a matrix multiplication on the tensors you created in 7"
   ]
  },
  {
   "cell_type": "code",
   "execution_count": 19,
   "id": "0e30f670-73ac-4820-9000-ae61aae49aef",
   "metadata": {},
   "outputs": [
    {
     "name": "stdout",
     "output_type": "stream",
     "text": [
      "Result of matrix multiplication:\n",
      "tensor([[-0.7246,  2.0064],\n",
      "        [ 0.3402,  4.3752]], device='cuda:0')\n"
     ]
    }
   ],
   "source": [
    "# Perform matrix multiplication (2x3) * (3x2)\n",
    "result = torch.matmul(tensor1, tensor2.T)\n",
    "\n",
    "print(\"Result of matrix multiplication:\")\n",
    "print(result)"
   ]
  },
  {
   "cell_type": "markdown",
   "id": "12d8ebda-30a1-4450-8823-451ca35f28f9",
   "metadata": {},
   "source": [
    "### 9) Find the maximum and minimum values of the ouput of 8"
   ]
  },
  {
   "cell_type": "code",
   "execution_count": 20,
   "id": "d01af0dc-54eb-419d-97a9-95ca9e5d0792",
   "metadata": {},
   "outputs": [
    {
     "name": "stdout",
     "output_type": "stream",
     "text": [
      "Max value in Result: 4.375241756439209\n",
      "Max value in Result: -0.7246068716049194\n"
     ]
    }
   ],
   "source": [
    "# Find the maximum and minimum values in result\n",
    "max_value = torch.max(result)\n",
    "min_value = torch.min(result)\n",
    "\n",
    "print(f\"Max value in Result: {max_value}\")\n",
    "print(f\"Max value in Result: {min_value}\")"
   ]
  },
  {
   "cell_type": "markdown",
   "id": "a7ee193a-2175-48dc-a6d7-519789e9e06e",
   "metadata": {},
   "source": [
    "### 10) Find the maximum and minimum index values of the output of 8"
   ]
  },
  {
   "cell_type": "code",
   "execution_count": 21,
   "id": "da5ec036-3e77-4b5e-ae17-3c2e98838b78",
   "metadata": {},
   "outputs": [
    {
     "name": "stdout",
     "output_type": "stream",
     "text": [
      "Max value in Result: 3\n",
      "Max value in Result: 0\n"
     ]
    }
   ],
   "source": [
    "# Find the maximum and minimum index values in result\n",
    "max_value = torch.argmax(result)\n",
    "min_value = torch.argmin(result)\n",
    "\n",
    "print(f\"Max value in Result: {max_value}\")\n",
    "print(f\"Max value in Result: {min_value}\")"
   ]
  },
  {
   "cell_type": "markdown",
   "id": "10dad484-9e85-4676-ba28-5679ce685707",
   "metadata": {},
   "source": [
    "### 11) Make a random tensor with shape(1,1,1,10) and then create a new tensor with all the 1 dimensions removed to be left with a tensor of shape (10). Set the seed to 7 when you create it and print out the first tensor and it's shape as well as the second tensor and it's shape."
   ]
  },
  {
   "cell_type": "code",
   "execution_count": 23,
   "id": "46c9fae3-3bf7-449c-ad1e-722b3eec3fe3",
   "metadata": {},
   "outputs": [
    {
     "name": "stdout",
     "output_type": "stream",
     "text": [
      "First tensor (shape (1, 1, 1, 10)):\n",
      "tensor([[[[-0.1468,  0.7861,  0.9468, -1.1143,  1.6908, -0.8948, -0.3556,\n",
      "            1.2324,  0.1382, -1.6822]]]])\n",
      "Shape of the first tensor: torch.Size([1, 1, 1, 10])\n",
      "\n",
      "Second tensor after squeezing (shape (10)):\n",
      "tensor([-0.1468,  0.7861,  0.9468, -1.1143,  1.6908, -0.8948, -0.3556,  1.2324,\n",
      "         0.1382, -1.6822])\n",
      "Shape of the second tensor: torch.Size([10])\n"
     ]
    }
   ],
   "source": [
    "# Set the seed for reproducibility\n",
    "torch.manual_seed(7)\n",
    "\n",
    "# Create a random tensor with shape (1, 1, 1, 10)\n",
    "tensor1 = torch.randn(1, 1, 1, 10)\n",
    "\n",
    "# Remove dimensions of size 1 to get shape (10)\n",
    "tensor2 = tensor1.squeeze()\n",
    "\n",
    "# Print the first tensor and its shape\n",
    "print(\"First tensor (shape (1, 1, 1, 10)):\")\n",
    "print(tensor1)\n",
    "print(f\"Shape of the first tensor: {tensor1.shape}\")\n",
    "\n",
    "# Print the second tensor and its shape\n",
    "print(\"\\nSecond tensor after squeezing (shape (10)):\")\n",
    "print(tensor2)\n",
    "print(f\"Shape of the second tensor: {tensor2.shape}\")"
   ]
  }
 ],
 "metadata": {
  "kernelspec": {
   "display_name": "Python (myenv)",
   "language": "python",
   "name": "myenv"
  },
  "language_info": {
   "codemirror_mode": {
    "name": "ipython",
    "version": 3
   },
   "file_extension": ".py",
   "mimetype": "text/x-python",
   "name": "python",
   "nbconvert_exporter": "python",
   "pygments_lexer": "ipython3",
   "version": "3.12.3"
  }
 },
 "nbformat": 4,
 "nbformat_minor": 5
}
