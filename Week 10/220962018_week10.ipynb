{
  "nbformat": 4,
  "nbformat_minor": 0,
  "metadata": {
    "colab": {
      "provenance": [],
      "toc_visible": true
    },
    "kernelspec": {
      "name": "python3",
      "display_name": "Python 3"
    },
    "language_info": {
      "name": "python"
    }
  },
  "cells": [
    {
      "cell_type": "markdown",
      "source": [
        "### Week 10 Lab Questions"
      ],
      "metadata": {
        "id": "Rn2oXA--K-3e"
      }
    },
    {
      "cell_type": "code",
      "source": [
        "import torch\n",
        "import torch.nn as nn\n",
        "import torch.nn.functional as F\n",
        "import matplotlib.pyplot as plt\n",
        "from torchvision import datasets, transforms\n",
        "from torch.utils.data import DataLoader"
      ],
      "metadata": {
        "id": "wscPjrUoJZYP"
      },
      "execution_count": 8,
      "outputs": []
    },
    {
      "cell_type": "markdown",
      "source": [
        "### 1. Implement Auto-Encoder for latent representation of MNIST dataset."
      ],
      "metadata": {
        "id": "kSNM_ZBpLqUr"
      }
    },
    {
      "cell_type": "code",
      "source": [
        "class AutoEncoder(nn.Module):\n",
        "    def __init__(self):\n",
        "        super().__init__()\n",
        "        # Encoder maps 784 -> 100 -> 10 (latent representation)\n",
        "        self.Encoder = nn.Sequential(\n",
        "            nn.Linear(784, 100, bias=True),\n",
        "            nn.ReLU(),\n",
        "            nn.Dropout(0.2),\n",
        "            nn.Linear(100, 10, bias=True),\n",
        "            nn.Sigmoid(),  # Ensures latent values are between 0 and 1\n",
        "        )\n",
        "        # Decoder reconstructs the image from the latent vector\n",
        "        self.Decoder = nn.Sequential(\n",
        "            nn.BatchNorm1d(10),\n",
        "            nn.Linear(10, 100, bias=True),\n",
        "            nn.ReLU(),\n",
        "            nn.Linear(100, 100, bias=True),\n",
        "            nn.ReLU(),\n",
        "            nn.Linear(100, 784, bias=True),\n",
        "            nn.Sigmoid(),\n",
        "        )\n",
        "\n",
        "    def forward(self, x):\n",
        "        latent = self.Encoder(x)\n",
        "        x_reconstructed = self.Decoder(latent)\n",
        "        return latent, x_reconstructed.view(-1, 1, 28, 28)\n",
        "\n",
        "def loss_function(x, x_hat):\n",
        "    # Reconstruction loss only (binary cross entropy)\n",
        "    return F.binary_cross_entropy(x_hat, x, reduction='sum')\n",
        "\n",
        "# MNIST DataLoader\n",
        "batch_size = 128\n",
        "transform = transforms.Compose([transforms.ToTensor()])\n",
        "train_dataset = datasets.MNIST(root='./data', train=True, transform=transform, download=True)\n",
        "train_data_loader = DataLoader(train_dataset, batch_size=batch_size, shuffle=True)\n",
        "\n",
        "# Set device, instantiate model, optimizer, and loss function\n",
        "device = torch.device(\"cuda\" if torch.cuda.is_available() else \"cpu\")\n",
        "model = AutoEncoder().to(device)\n",
        "optimizer = torch.optim.Adam(model.parameters(), lr=1e-3)\n",
        "\n",
        "def train_one_epoch(epoch_index):\n",
        "    model.train()\n",
        "    total_loss = 0.0\n",
        "    for i, data in enumerate(train_data_loader):\n",
        "        inputs, _ = data\n",
        "        inputs = inputs.to(device)\n",
        "        # Flatten the input images to a 784-dimensional vector\n",
        "        inputs_flat = inputs.view(inputs.size(0), -1)\n",
        "\n",
        "        optimizer.zero_grad()\n",
        "        latent, outputs = model(inputs_flat)\n",
        "        loss = loss_function(inputs, outputs)\n",
        "        loss.backward()\n",
        "        optimizer.step()\n",
        "\n",
        "        total_loss += loss.item()\n",
        "    return total_loss / (len(train_data_loader) * batch_size)\n",
        "\n",
        "def generate_digit():\n",
        "    model.eval()\n",
        "    # Sample a random latent vector from a uniform distribution in [0,1]\n",
        "    latent_sample = torch.rand((1, 10))\n",
        "    x_decoded = model.Decoder(latent_sample.to(device))\n",
        "    digit = x_decoded.detach().cpu().reshape(28, 28)\n",
        "    plt.imshow(digit, cmap='gray')\n",
        "    plt.axis('off')\n",
        "    plt.show()\n",
        "\n",
        "# Example training loop\n",
        "num_epochs = 10\n",
        "for epoch in range(num_epochs):\n",
        "    avg_loss = train_one_epoch(epoch)\n",
        "    print(f\"Epoch {epoch+1}, Loss: {avg_loss}\")"
      ],
      "metadata": {
        "colab": {
          "base_uri": "https://localhost:8080/"
        },
        "id": "Gg_RbgzkJQsl",
        "outputId": "c134a28c-c4b3-42e2-cafc-660e4625402b"
      },
      "execution_count": 9,
      "outputs": [
        {
          "output_type": "stream",
          "name": "stdout",
          "text": [
            "Epoch 1, Loss: 168.84271999920355\n",
            "Epoch 2, Loss: 123.28715734746156\n",
            "Epoch 3, Loss: 115.57096251140017\n",
            "Epoch 4, Loss: 112.33310876777178\n",
            "Epoch 5, Loss: 110.20255762681778\n",
            "Epoch 6, Loss: 108.71214728772259\n",
            "Epoch 7, Loss: 107.40109370054721\n",
            "Epoch 8, Loss: 106.47127627309706\n",
            "Epoch 9, Loss: 105.63132172606902\n",
            "Epoch 10, Loss: 104.94819367821538\n"
          ]
        }
      ]
    },
    {
      "cell_type": "code",
      "source": [
        "# Generate a reconstructed digit using a random latent vector\n",
        "generate_digit()\n",
        "generate_digit()"
      ],
      "metadata": {
        "colab": {
          "base_uri": "https://localhost:8080/",
          "height": 795
        },
        "id": "rjKpIqXtJji-",
        "outputId": "70cd3b24-1ad0-42fb-a467-5f885efee874"
      },
      "execution_count": 10,
      "outputs": [
        {
          "output_type": "display_data",
          "data": {
            "text/plain": [
              "<Figure size 640x480 with 1 Axes>"
            ],
            "image/png": "[encoded data removed]"
          },
          "metadata": {}
        },
        {
          "output_type": "display_data",
          "data": {
            "text/plain": [
              "<Figure size 640x480 with 1 Axes>"
            ],
            "image/png": "[encoded data removed]"
          },
          "metadata": {}
        }
      ]
    },
    {
      "cell_type": "markdown",
      "source": [
        "### 2. Implement VAE for synthesizing digits using MNIST training data."
      ],
      "metadata": {
        "id": "6Cvo-Hc8Lx2_"
      }
    },
    {
      "cell_type": "code",
      "execution_count": 11,
      "metadata": {
        "colab": {
          "base_uri": "https://localhost:8080/"
        },
        "id": "2PR0eE1pC_vm",
        "outputId": "e48829a7-7dc9-4de5-ccc3-db8aac594d81"
      },
      "outputs": [
        {
          "output_type": "stream",
          "name": "stdout",
          "text": [
            "Epoch 1, Loss: 211.2582610888776\n",
            "Epoch 2, Loss: 175.55275283846012\n",
            "Epoch 3, Loss: 164.04321007637074\n",
            "Epoch 4, Loss: 158.7026914584357\n",
            "Epoch 5, Loss: 155.50068566946587\n",
            "Epoch 6, Loss: 153.19169148199086\n",
            "Epoch 7, Loss: 151.607382556777\n",
            "Epoch 8, Loss: 150.46769584216543\n",
            "Epoch 9, Loss: 149.44789149562942\n",
            "Epoch 10, Loss: 148.78478252353952\n"
          ]
        }
      ],
      "source": [
        "class VariationalAutoEncoder(nn.Module):\n",
        "    def __init__(self):\n",
        "        super().__init__()\n",
        "        # Encoder maps 784 -> 100 -> 10\n",
        "        self.Encoder = nn.Sequential(\n",
        "            nn.Linear(784, 100, bias=True),\n",
        "            nn.ReLU(),\n",
        "            nn.Dropout(0.2),\n",
        "            nn.Linear(100, 10, bias=True),\n",
        "            nn.Sigmoid(),\n",
        "        )\n",
        "        # Compute latent mean and log variance from the encoder output (10-dimensional)\n",
        "        self.mean = nn.Linear(10, 10, bias=True)\n",
        "        self.log_var = nn.Linear(10, 10, bias=True)\n",
        "\n",
        "        self.Decoder = nn.Sequential(\n",
        "            nn.BatchNorm1d(10),\n",
        "            nn.Linear(10, 100, bias=True),\n",
        "            nn.ReLU(),\n",
        "            nn.Linear(100, 100, bias=True),\n",
        "            nn.ReLU(),\n",
        "            nn.Linear(100, 784, bias=True),\n",
        "            nn.Sigmoid(),\n",
        "        )\n",
        "\n",
        "    def forward(self, x):\n",
        "        enc = self.Encoder(x)\n",
        "        mean = self.mean(enc)\n",
        "        log_var = self.log_var(enc)\n",
        "        # Reparameterization trick\n",
        "        z = mean + torch.exp(0.5 * log_var) * torch.randn_like(log_var)\n",
        "        y = self.Decoder(z)\n",
        "        return mean, log_var, y.view(-1, 1, 28, 28)\n",
        "\n",
        "def loss_function(x, x_hat, mean, log_var):\n",
        "    reproduction_loss = F.binary_cross_entropy(x_hat, x, reduction='sum')\n",
        "    KLD = -0.5 * torch.sum(1 + log_var - mean.pow(2) - log_var.exp())\n",
        "    return reproduction_loss + KLD\n",
        "\n",
        "# MNIST DataLoader\n",
        "batch_size = 128\n",
        "transform = transforms.Compose([transforms.ToTensor()])\n",
        "train_dataset = datasets.MNIST(root='./data', train=True, transform=transform, download=True)\n",
        "train_data_loader = DataLoader(train_dataset, batch_size=batch_size, shuffle=True)\n",
        "\n",
        "# Set device, instantiate model, optimizer, and loss function\n",
        "device = torch.device(\"cuda\" if torch.cuda.is_available() else \"cpu\")\n",
        "model = VariationalAutoEncoder().to(device)\n",
        "optimizer = torch.optim.Adam(model.parameters(), lr=1e-3)\n",
        "loss_fn = loss_function\n",
        "\n",
        "def train_one_epoch(epoch_index):\n",
        "    model.train()\n",
        "    total_loss = 0.0\n",
        "    for i, data in enumerate(train_data_loader):\n",
        "        inputs, _ = data\n",
        "        inputs = inputs.to(device)\n",
        "        # Flatten the input images to a 784-dimensional vector\n",
        "        inputs_flat = inputs.view(inputs.size(0), -1)\n",
        "\n",
        "        optimizer.zero_grad()\n",
        "        mean, log_var, outputs = model(inputs_flat)\n",
        "        loss = loss_fn(inputs, outputs, mean, log_var)\n",
        "        loss.backward()\n",
        "        optimizer.step()\n",
        "\n",
        "        total_loss += loss.item()\n",
        "\n",
        "    return total_loss / (len(train_data_loader) * batch_size)\n",
        "\n",
        "def generate_digit():\n",
        "    model.eval()\n",
        "    # Sample from a standard normal latent space\n",
        "    mean = torch.zeros((1, 10))\n",
        "    var = torch.ones((1, 10))\n",
        "    z_sample = mean + var * torch.randn_like(var)\n",
        "    x_decoded = model.Decoder(z_sample.to(device))\n",
        "    digit = x_decoded.detach().cpu().reshape(28, 28)\n",
        "    plt.imshow(digit, cmap='gray')\n",
        "    plt.axis('off')\n",
        "    plt.show()\n",
        "\n",
        "# Example training loop\n",
        "num_epochs = 10\n",
        "for epoch in range(num_epochs):\n",
        "    avg_loss = train_one_epoch(epoch)\n",
        "    print(f\"Epoch {epoch+1}, Loss: {avg_loss}\")"
      ]
    },
    {
      "cell_type": "code",
      "source": [
        "# Generate a synthesized digit after training\n",
        "generate_digit()\n",
        "generate_digit()"
      ],
      "metadata": {
        "colab": {
          "base_uri": "https://localhost:8080/",
          "height": 795
        },
        "id": "XLXJ-Hf5E-DD",
        "outputId": "ff49c607-1c63-4949-96db-c4da5e21df4b"
      },
      "execution_count": 5,
      "outputs": [
        {
          "output_type": "display_data",
          "data": {
            "text/plain": [
              "<Figure size 640x480 with 1 Axes>"
            ],
            "image/png": "[encoded data removed]"
          },
          "metadata": {}
        },
        {
          "output_type": "display_data",
          "data": {
            "text/plain": [
              "<Figure size 640x480 with 1 Axes>"
            ],
            "image/png": "[encoded data removed]"
          },
          "metadata": {}
        }
      ]
    }
  ]
}